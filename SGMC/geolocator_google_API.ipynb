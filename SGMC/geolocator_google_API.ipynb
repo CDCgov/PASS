{
 "cells": [
  {
   "cell_type": "code",
   "execution_count": null,
   "metadata": {},
   "outputs": [],
   "source": [
    "import pandas as pd\n",
    "import requests\n",
    "from tqdm import tqdm\n",
    "# Initialize the Google Maps Geocoding API endpoint and API key\n",
    "API_KEY = 'ADD-YOUR-API-KEY'\n",
    "API_ENDPOINT = 'https://maps.googleapis.com/maps/api/geocode/json'\n",
    "# Import the CSV file\n",
    "df = pd.read_csv('./Data/sample_data_Fuzzy_result.csv')"
   ]
  },
  {
   "cell_type": "code",
   "execution_count": null,
   "metadata": {},
   "outputs": [],
   "source": [
    "df.head(1)"
   ]
  },
  {
   "cell_type": "code",
   "execution_count": null,
   "metadata": {},
   "outputs": [],
   "source": [
    "# Create new columns for latitude, longitude, and full address\n",
    "df['Latitude'] = ''\n",
    "df['Longitude'] = ''\n",
    "df['Full Address'] = ''\n",
    "df.head(1)"
   ]
  },
  {
   "cell_type": "code",
   "execution_count": null,
   "metadata": {},
   "outputs": [],
   "source": [
    "# Geocode each address using the Google Maps Geocoding API\n",
    "for i in tqdm(range(len(df))):\n",
    "    try:\n",
    "        full_address = f\"{df['Institution'][i]}, {df['States'][i]}, {df['Country/territory'][i]}\"\n",
    "        params = {'address': full_address, 'key': API_KEY}\n",
    "        response = requests.get(API_ENDPOINT, params=params)\n",
    "        json_response = response.json()\n",
    "        if json_response['status'] == 'OK':\n",
    "            df.loc[i, 'Latitude'] = json_response['results'][0]['geometry']['location']['lat']\n",
    "            df.loc[i, 'Longitude'] = json_response['results'][0]['geometry']['location']['lng']\n",
    "            df.loc[i, 'Full Address'] = json_response['results'][0]['formatted_address']\n",
    "    except:\n",
    "        # If geocoding fails, set the latitude, longitude, and full address columns to empty strings\n",
    "        df.loc[i, 'Latitude'] = ''\n",
    "        df.loc[i, 'Longitude'] = ''\n",
    "        df.loc[i, 'Full Address'] = ''"
   ]
  },
  {
   "cell_type": "code",
   "execution_count": null,
   "metadata": {},
   "outputs": [],
   "source": [
    "df.head(10)"
   ]
  },
  {
   "cell_type": "code",
   "execution_count": null,
   "metadata": {},
   "outputs": [],
   "source": [
    "df.to_csv('./Data_Result/sample_data_Adress.csv', index=False)\n",
    "df.to_csv('./Data/sample_data_Adress.csv', index=False)\n"
   ]
  },
  {
   "cell_type": "code",
   "execution_count": null,
   "metadata": {},
   "outputs": [],
   "source": []
  }
 ],
 "metadata": {
  "kernelspec": {
   "display_name": "Python 3",
   "language": "python",
   "name": "python3"
  },
  "language_info": {
   "codemirror_mode": {
    "name": "ipython",
    "version": 3
   },
   "file_extension": ".py",
   "mimetype": "text/x-python",
   "name": "python",
   "nbconvert_exporter": "python",
   "pygments_lexer": "ipython3",
   "version": "3.9.6"
  },
  "orig_nbformat": 4,
  "vscode": {
   "interpreter": {
    "hash": "31f2aee4e71d21fbe5cf8b01ff0e069b9275f58929596ceb00d14d90e3e16cd6"
   }
  }
 },
 "nbformat": 4,
 "nbformat_minor": 2
}
