{
 "cells": [
  {
   "cell_type": "code",
   "execution_count": null,
   "metadata": {},
   "outputs": [],
   "source": [
    "import folium\n",
    "import pandas as pd\n",
    "# Load the CSV data into a pandas DataFrame\n",
    "franchises = pd.read_csv(\"./Data/sample_data_Adress.csv\")\n"
   ]
  },
  {
   "cell_type": "code",
   "execution_count": null,
   "metadata": {},
   "outputs": [],
   "source": [
    "franchises.head(1)"
   ]
  },
  {
   "cell_type": "code",
   "execution_count": null,
   "metadata": {},
   "outputs": [],
   "source": [
    "franchises.dropna(subset=[\"Latitude\",\"Longitude\"], inplace=True)\n",
    "# Create a map centered on the average latitude and longitude of the locations in the DataFrame\n",
    "avg_latitude = franchises[\"Latitude\"].mean()\n",
    "avg_longitude = franchises[\"Longitude\"].mean()\n",
    "map = folium.Map(location=[avg_latitude, avg_longitude], zoom_start=-10)\n",
    "# Add markers for each center in the DataFrame\n",
    "for i, row in franchises.iterrows():\n",
    "    folium.CircleMarker(\n",
    "        location=[row[\"Latitude\"], row[\"Longitude\"]],\n",
    "        popup=row[\"Center Names\"] + \": \" + str(row[\"Institution\"])+ \": \" + str(row[\"accuracy\"]),\n",
    "        radius= row[\"accuracy\"] / 100,\n",
    "        color=\"red\",\n",
    "        fill=True,\n",
    "        fill_color=\"red\",\n",
    "        fill_opacity=0.7\n",
    "    ).add_to(map)\n",
    "# Display the map\n",
    "map"
   ]
  },
  {
   "cell_type": "code",
   "execution_count": null,
   "metadata": {},
   "outputs": [],
   "source": [
    "data=franchises.dropna(subset=['Longitude'])\n",
    "\n",
    "data=franchises.dropna(subset=['Latitude'])\n",
    "center = [-0.023559, 37.9061928]\n",
    "map_kenya = folium.Map(location=center, zoom_start=2, width=1420, height=850, tiles='Stamen Terrain' ,control_scale=True)\n",
    "# folium.TileLayer('Stamen Terrain').add_to(map_kenya)\n",
    "# folium.TileLayer('Stamen Toner').add_to(map_kenya)\n",
    "# folium.TileLayer('Stamen Water Color').add_to(map_kenya)\n",
    "# folium.TileLayer('cartodbpositron').add_to(map_kenya)\n",
    "folium.TileLayer('cartodbdark_matter').add_to(map_kenya)\n",
    "folium.LayerControl().add_to(map_kenya)\n",
    "\n",
    "data['Country/territory'] \n",
    "\n",
    "for index, data in data.iterrows():\n",
    "    location = [data['Latitude'], data['Longitude']]\n",
    "    folium.Marker(location,attr='Mapbox attribution', popup = f'Center Name: {data[\"Center Names\"]}\\n States: {data[\"States\"]}\\n Location: {data[\"Country/territory\"]} Count_Acc: {data[\"accuracy\"]} ').add_to(map_kenya)\n",
    "\n",
    "# # save map to html file\n",
    "\n",
    "map_kenya"
   ]
  },
  {
   "cell_type": "code",
   "execution_count": null,
   "metadata": {},
   "outputs": [],
   "source": []
  }
 ],
 "metadata": {
  "kernelspec": {
   "display_name": "Python 3",
   "language": "python",
   "name": "python3"
  },
  "language_info": {
   "codemirror_mode": {
    "name": "ipython",
    "version": 3
   },
   "file_extension": ".py",
   "mimetype": "text/x-python",
   "name": "python",
   "nbconvert_exporter": "python",
   "pygments_lexer": "ipython3",
   "version": "3.10.7 (v3.10.7:6cc6b13308, Sep  5 2022, 14:02:52) [Clang 13.0.0 (clang-1300.0.29.30)]"
  },
  "orig_nbformat": 4,
  "vscode": {
   "interpreter": {
    "hash": "aee8b7b246df8f9039afb4144a1f6fd8d2ca17a180786b69acc140d282b71a49"
   }
  }
 },
 "nbformat": 4,
 "nbformat_minor": 2
}
