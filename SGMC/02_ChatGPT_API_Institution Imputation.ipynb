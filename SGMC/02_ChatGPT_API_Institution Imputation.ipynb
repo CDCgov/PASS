{
 "cells": [
  {
   "attachments": {},
   "cell_type": "markdown",
   "id": "7d27fd42",
   "metadata": {},
   "source": [
    "## ChatGPT API Institution Imputation"
   ]
  },
  {
   "attachments": {},
   "cell_type": "markdown",
   "id": "56b58431",
   "metadata": {},
   "source": [
    "Get API key from OpenAI\n",
    "https://openai.com/"
   ]
  },
  {
   "attachments": {},
   "cell_type": "markdown",
   "id": "45074e23",
   "metadata": {},
   "source": [
    "## Install"
   ]
  },
  {
   "cell_type": "code",
   "execution_count": 3,
   "id": "5e103f91-fb0f-4c46-9b10-e7303ee3cb58",
   "metadata": {},
   "outputs": [
    {
     "name": "stdout",
     "output_type": "stream",
     "text": [
      "\u001b[33mYou are using pip version 18.1, however version 20.3.4 is available.\n",
      "You should consider upgrading via the 'pip install --upgrade pip' command.\u001b[0m\n"
     ]
    }
   ],
   "source": [
    "!pip install --quiet openai"
   ]
  },
  {
   "cell_type": "code",
   "execution_count": 5,
   "id": "9f970bd6",
   "metadata": {},
   "outputs": [
    {
     "name": "stdout",
     "output_type": "stream",
     "text": [
      "Collecting retrying\n",
      "  Downloading https://files.pythonhosted.org/packages/ce/70/15ce8551d65b324e18c5aa6ef6998880f21ead51ebe5ed743c0950d7d9dd/retrying-1.3.4.tar.gz\n",
      "Requirement already satisfied: six>=1.7.0 in /Library/Frameworks/Python.framework/Versions/2.7/lib/python2.7/site-packages (from retrying) (1.16.0)\n",
      "Installing collected packages: retrying\n",
      "  Running setup.py install for retrying ... \u001b[?25ldone\n",
      "\u001b[?25hSuccessfully installed retrying-1.3.4\n",
      "\u001b[33mYou are using pip version 18.1, however version 20.3.4 is available.\n",
      "You should consider upgrading via the 'pip install --upgrade pip' command.\u001b[0m\n"
     ]
    }
   ],
   "source": [
    "!pip install retrying"
   ]
  },
  {
   "cell_type": "code",
   "execution_count": null,
   "id": "8e1cdebd",
   "metadata": {},
   "outputs": [],
   "source": [
    "import openai\n",
    "import pandas as pd\n",
    "from fuzzywuzzy import fuzz\n",
    "from fuzzywuzzy import process\n",
    "from tqdm import tqdm\n",
    "import re\n",
    "import time\n",
    "from retrying import retry\n",
    "from tqdm.auto import tqdm\n",
    "\n",
    "\n",
    "# Load the first CSV file into a Pandas dataframe\n",
    "df1 = pd.read_csv(\"./data/output/sample_data_Scrape_Result.csv\")#, index_col=0)\n",
    "print(f'Length of df1: {len(df1)}')\n",
    "# Load the second CSV file into a second Pandas dataframe\n",
    "#df2 = pd.read_csv(\"./data/input/Globe-institution_data.csv\")\n",
    "\n",
    "openai.api_key= open (\"key.txt\", \"r\").read().strip('\\n')\n",
    "# print(openai.api_key)"
   ]
  },
  {
   "cell_type": "code",
   "execution_count": null,
   "id": "3992347e-430c-4b6d-a1f9-a11a3b013940",
   "metadata": {},
   "outputs": [],
   "source": [
    "# df1 = df1.drop(['Country_chatGPT', 'Lat_chatGPT', 'Long_chatGPT'], axis=1)"
   ]
  },
  {
   "cell_type": "code",
   "execution_count": null,
   "id": "e83571f6-c559-41ec-bc43-bf7b794b812f",
   "metadata": {},
   "outputs": [],
   "source": [
    "target_rerun = pd.read_csv('./data/output/sample_data_Scrape_Result.csv')"
   ]
  },
  {
   "cell_type": "code",
   "execution_count": null,
   "id": "33c56c9a-9da9-4018-b1df-35f6460fc554",
   "metadata": {},
   "outputs": [],
   "source": [
    "target_rerun.head(5)"
   ]
  },
  {
   "cell_type": "code",
   "execution_count": null,
   "id": "bbe34929-8b37-4361-a462-e8f46e62bcf0",
   "metadata": {},
   "outputs": [],
   "source": [
    "# Filtering Dataframe rows\n",
    "df1 = df1[(df1['Acc'].isin(target_rerun['Acc']))]"
   ]
  },
  {
   "cell_type": "code",
   "execution_count": null,
   "id": "d3f5382b-4ede-405f-9b59-62ee2bcb6d2d",
   "metadata": {},
   "outputs": [],
   "source": [
    "df1.head(5)"
   ]
  },
  {
   "cell_type": "code",
   "execution_count": null,
   "id": "6635dabe-596c-4269-aef7-c0ec2e52db32",
   "metadata": {},
   "outputs": [],
   "source": [
    "df1[df1['Acc']=='SRR11788653']"
   ]
  },
  {
   "cell_type": "code",
   "execution_count": null,
   "id": "c0054990-f621-40bc-8346-d8c8fe676af5",
   "metadata": {},
   "outputs": [],
   "source": [
    "print(f'Length of df1: {len(df1)}')"
   ]
  },
  {
   "cell_type": "code",
   "execution_count": null,
   "id": "7a197e43-bee9-44b5-a06e-17a9b6e1f6b3",
   "metadata": {},
   "outputs": [],
   "source": [
    "# Subset df1 for test length test_len\n",
    "test_len = 539\n",
    "df1 = df1.head(test_len)\n",
    "print(f'Length of df1 for test: {len(df1)}')"
   ]
  },
  {
   "cell_type": "code",
   "execution_count": null,
   "id": "a50fe38b",
   "metadata": {},
   "outputs": [],
   "source": [
    "%timeit\n",
    "tqdm.pandas()\n",
    "@retry(stop_max_attempt_number=3, wait_fixed=60000)  # retry up to 3 times, waiting 60 seconds between each retry\n",
    "def get_institute_name(row):\n",
    "    \"\"\"\n",
    "    -----------------------------------------------------------------------------------------------\n",
    "    \n",
    "    -----------------------------------------------------------------------------------------------\n",
    "    \"\"\"\n",
    "    message_question='If \"' +str(row['Center_Names']) +'\", \"' + str(row['Submitted_by']) + '\", \"' + str(row['Biosample_Submission']) + '\", \"' + str(row['Bioproject_Submission'])+'\" represent only one institute and If institution keywords are \"EBI\" or \"GEO\" or \"Gene Expression Omnibus\" or \"NCBI\" or \"National Center for Biotechnology Information (NCBI)\" or \"National Center for Biotechnology Information\" or \"NCBI (Gene Expression Omnibus)\" or \"NCBI (National Center for Biotechnology Information)\" or \"NCBI-GEO\" or \"EBI (European Bioinformatics Institute)\" ignore them and choose another option for the one institution, what is it? Please just provide the name only, do not reply with a sentence nor an abbreviation.'\n",
    "    message_history=[{\"role\":\"user\", \"content\":message_question}]\n",
    "\n",
    "    completion = openai.ChatCompletion.create(\n",
    "        model=\"gpt-3.5-turbo\",\n",
    "        messages=message_history\n",
    "    )        \n",
    "    reply_content=completion.choices[0].message.content\n",
    "    print(f'Query answer 1: {reply_content}')\n",
    "    institution = reply_content\n",
    "    \"\"\"\n",
    "    -----------------------------------------------------------------------------------------------\n",
    "    \n",
    "    -----------------------------------------------------------------------------------------------\n",
    "    \"\"\"\n",
    "    reply_content = reply_content.replace(\"\\n\", \"\")\n",
    "\n",
    "    message_history.append({\"role\":\"assistant\", \"content\": reply_content})\n",
    "    message_history.append({\"role\":\"user\", \"content\": f\"What country is the institution located? Please just provide the name of the country only, do not reply with a sentence nor an abbreviation.\"})\n",
    "\n",
    "    completion=openai.ChatCompletion.create(\n",
    "    model=\"gpt-3.5-turbo\",\n",
    "    messages=message_history\n",
    "                )  \n",
    "    reply_content=completion.choices[0].message.content\n",
    "    print(f'Query answer 2: {reply_content}')\n",
    "    country = reply_content\n",
    "    \"\"\"\n",
    "    -----------------------------------------------------------------------------------------------\n",
    "    \n",
    "    -----------------------------------------------------------------------------------------------\n",
    "    \"\"\"\n",
    "    reply_content = reply_content.replace(\"\\n\", \"\")\n",
    "\n",
    "    message_history.append({\"role\":\"assistant\", \"content\": reply_content})\n",
    "    message_history.append({\"role\":\"user\", \"content\": f\"What GPS Coordinate is the institution? Please just provide the Latitude and Longitude separated by comma only, do not reply with a sentence nor an abbreviation.\"})\n",
    "\n",
    "    completion=openai.ChatCompletion.create(\n",
    "    model=\"gpt-3.5-turbo\",\n",
    "    messages=message_history\n",
    "                )  \n",
    "    reply_content=completion.choices[0].message.content\n",
    "    print(f'Query answer 3: {reply_content}')\n",
    "    LatLong = reply_content\n",
    "    return (institution, country, LatLong)\n"
   ]
  },
  {
   "cell_type": "code",
   "execution_count": null,
   "id": "c8b92631-dd44-47ac-8f87-1f0e125c70f0",
   "metadata": {},
   "outputs": [],
   "source": [
    "import pandas as pd\n",
    "\n",
    "# set the maximum number of rows to save in each partition\n",
    "partition_size = 37\n",
    "\n",
    "# initialize the results list and partition counter\n",
    "results = []\n",
    "partition_count = 1\n",
    "\n",
    "for index, row in tqdm(df1.iterrows()):\n",
    "    if index > 0 and index % 20 == 0:\n",
    "        time.sleep(60)\n",
    "        \n",
    "    institute_res = get_institute_name(row)\n",
    "    result = df1.loc[[index], :]\n",
    "    result['Institute_chatGPT'] = institute_res[0]\n",
    "    result['Country_chatGPT'] = institute_res[1]\n",
    "    \n",
    "    try:\n",
    "        result['Lat_chatGPT'] = institute_res[2].split(',')[0]\n",
    "        result['Long_chatGPT'] = institute_res[2].split(',')[1]\n",
    "    except IndexError:\n",
    "        # handle the IndexError by setting Lat_chatGPT and Long_chatGPT to None\n",
    "        result['Lat_chatGPT'] = None\n",
    "        result['Long_chatGPT'] = None\n",
    "        \n",
    "    results.append(result)\n",
    "    \n",
    "    # if the partition size is reached, save the results as a CSV file\n",
    "    if len(results) == partition_size:\n",
    "        filename = f'results_{partition_count}.csv'\n",
    "        pd.concat(results).to_csv(filename, index=False)\n",
    "        print(f'Saved partition {partition_count}')\n",
    "        \n",
    "        # reset the results list and increment the partition counter\n",
    "        results = []\n",
    "        partition_count += 1\n",
    "\n",
    "# save any remaining results as a CSV file\n",
    "if len(results) > 0:\n",
    "    filename = f'./output/results_{partition_count}.csv'\n",
    "    pd.concat(results).to_csv(filename, index=False)\n",
    "    print(f'Saved partition {partition_count}')"
   ]
  },
  {
   "cell_type": "code",
   "execution_count": null,
   "id": "4e0117b7",
   "metadata": {},
   "outputs": [],
   "source": [
    "final_result = pd.concat(results)"
   ]
  },
  {
   "cell_type": "code",
   "execution_count": null,
   "id": "af900f2e-2af5-4aa5-ae7f-a39ebf36657e",
   "metadata": {},
   "outputs": [],
   "source": [
    "final_result.head(2)"
   ]
  },
  {
   "cell_type": "code",
   "execution_count": null,
   "id": "893b8668-5e85-4112-b8f3-07d69de3e7b9",
   "metadata": {},
   "outputs": [],
   "source": [
    "len(final_result)"
   ]
  },
  {
   "cell_type": "code",
   "execution_count": null,
   "id": "33ae5d04",
   "metadata": {},
   "outputs": [],
   "source": [
    "final_result.to_csv('./data/output/sample_data_ChatGPT_Result.csv', encoding='utf-8', index=False)\n"
   ]
  }
 ],
 "metadata": {
  "kernelspec": {
   "display_name": "Python 3",
   "language": "python",
   "name": "python3"
  },
  "language_info": {
   "codemirror_mode": {
    "name": "ipython",
    "version": 3
   },
   "file_extension": ".py",
   "mimetype": "text/x-python",
   "name": "python",
   "nbconvert_exporter": "python",
   "pygments_lexer": "ipython3",
   "version": "3.9.6"
  },
  "varInspector": {
   "cols": {
    "lenName": 16,
    "lenType": 16,
    "lenVar": 40
   },
   "kernels_config": {
    "python": {
     "delete_cmd_postfix": "",
     "delete_cmd_prefix": "del ",
     "library": "var_list.py",
     "varRefreshCmd": "print(var_dic_list())"
    },
    "r": {
     "delete_cmd_postfix": ") ",
     "delete_cmd_prefix": "rm(",
     "library": "var_list.r",
     "varRefreshCmd": "cat(var_dic_list()) "
    }
   },
   "types_to_exclude": [
    "module",
    "function",
    "builtin_function_or_method",
    "instance",
    "_Feature"
   ],
   "window_display": false
  },
  "vscode": {
   "interpreter": {
    "hash": "aee8b7b246df8f9039afb4144a1f6fd8d2ca17a180786b69acc140d282b71a49"
   }
  }
 },
 "nbformat": 4,
 "nbformat_minor": 5
}
