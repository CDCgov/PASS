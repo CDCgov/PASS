{
 "cells": [
  {
   "cell_type": "code",
   "execution_count": null,
   "metadata": {},
   "outputs": [],
   "source": [
    "\n",
    "#prereq libraries\n",
    "import pandas as pd\n",
    "from geopy.geocoders import Nominatim"
   ]
  },
  {
   "cell_type": "code",
   "execution_count": null,
   "metadata": {},
   "outputs": [],
   "source": [
    "#read-in csv file and create column headers according to UK housing site\n",
    "df = pd.read_csv(\"./Data/sample_data.csv\",sep=',') #seperator"
   ]
  },
  {
   "cell_type": "code",
   "execution_count": null,
   "metadata": {},
   "outputs": [],
   "source": [
    "df.head()"
   ]
  },
  {
   "cell_type": "code",
   "execution_count": null,
   "metadata": {},
   "outputs": [],
   "source": [
    "#create variable column inside file called `myAddress and assign it to seleted address columns\n",
    "df['query'] = df['Center Names'] \n"
   ]
  },
  {
   "cell_type": "code",
   "execution_count": null,
   "metadata": {},
   "outputs": [],
   "source": [
    "#print some useful info: row length and shape size\n",
    "print(\"data row x columns is {}\\ndata row count is {}\".format(df.shape,len(df.index)))\n",
    "\n",
    "#print first rows as sample\n",
    "df.head()"
   ]
  },
  {
   "cell_type": "code",
   "execution_count": null,
   "metadata": {},
   "outputs": [],
   "source": [
    "#create 2 new columns to store lat/long - initalise to null\n",
    "df['location_lat'] = \"\"\n",
    "df['location_long'] = \"\"\n",
    "df['location_address'] = \"\"\n",
    "\n",
    "#print first rows to sample\n",
    "df.head()"
   ]
  },
  {
   "cell_type": "code",
   "execution_count": null,
   "metadata": {},
   "outputs": [],
   "source": [
    "from tqdm import tqdm\n",
    "geolocator = Nominatim(user_agent=\"myApp\")\n",
    "\n",
    "for i in tqdm(df.index):\n",
    "    try:\n",
    "        #tries fetch address from geopy\n",
    "        location = geolocator.geocode(df['query'][i])\n",
    "        \n",
    "        #append lat/long to column using dataframe location\n",
    "        df.loc[i,'location_lat'] = location.latitude\n",
    "        df.loc[i,'location_long'] = location.longitude\n",
    "        df.loc[i,'location_address'] = location.address\n",
    "    except:\n",
    "        #catches exception for the case where no value is returned\n",
    "        #appends null value to column\n",
    "        df.loc[i,'location_lat'] = \"\"\n",
    "        df.loc[i,'location_long'] = \"\"\n",
    "        df.loc[i,'location_address'] = \"\"\n",
    "        "
   ]
  },
  {
   "cell_type": "code",
   "execution_count": null,
   "metadata": {},
   "outputs": [],
   "source": [
    "#print first rows as sample\n",
    "df.head(6704)"
   ]
  },
  {
   "cell_type": "code",
   "execution_count": null,
   "metadata": {},
   "outputs": [],
   "source": [
    "df.to_csv('World_GEO_count_Acc_map.csv', encoding='utf-8')"
   ]
  },
  {
   "cell_type": "code",
   "execution_count": null,
   "metadata": {},
   "outputs": [],
   "source": []
  }
 ],
 "metadata": {
  "kernelspec": {
   "display_name": "Python 3.10.7 64-bit",
   "language": "python",
   "name": "python3"
  },
  "language_info": {
   "codemirror_mode": {
    "name": "ipython",
    "version": 3
   },
   "file_extension": ".py",
   "mimetype": "text/x-python",
   "name": "python",
   "nbconvert_exporter": "python",
   "pygments_lexer": "ipython3",
   "version": "3.10.7 (v3.10.7:6cc6b13308, Sep  5 2022, 14:02:52) [Clang 13.0.0 (clang-1300.0.29.30)]"
  },
  "orig_nbformat": 4,
  "vscode": {
   "interpreter": {
    "hash": "aee8b7b246df8f9039afb4144a1f6fd8d2ca17a180786b69acc140d282b71a49"
   }
  }
 },
 "nbformat": 4,
 "nbformat_minor": 2
}
