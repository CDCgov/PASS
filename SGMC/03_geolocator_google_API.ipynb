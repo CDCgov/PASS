{
 "cells": [
  {
   "attachments": {},
   "cell_type": "markdown",
   "metadata": {},
   "source": [
    "## Google Maps Geocoding API\n",
    "Creating API keys:\n",
    "The API key is a unique identifier that authenticates requests associated with your project for usage and billing purposes. You must have at least one API key associated with your project.\n",
    "\n",
    "To create an API key:\n",
    "https://developers.google.com/maps/documentation/geocoding/get-api-key."
   ]
  },
  {
   "attachments": {},
   "cell_type": "markdown",
   "metadata": {},
   "source": [
    "# Imports"
   ]
  },
  {
   "cell_type": "code",
   "execution_count": null,
   "metadata": {},
   "outputs": [],
   "source": [
    "import pandas as pd\n",
    "import requests\n",
    "from tqdm import tqdm"
   ]
  },
  {
   "attachments": {},
   "cell_type": "markdown",
   "metadata": {},
   "source": [
    "# Initialize the Google Maps Geocoding API endpoint and API key"
   ]
  },
  {
   "cell_type": "code",
   "execution_count": null,
   "metadata": {},
   "outputs": [],
   "source": [
    "API_ENDPOINT = 'https://maps.googleapis.com/maps/api/geocode/json'\n",
    "API_KEY= input('Please enter your Google Maps API Key and press Enter:')\n",
    "if API_KEY != '':\n",
    "    print(f'API Key Entered successfully, Last seven charaters: {API_KEY[len(API_KEY)-7:]}')\n",
    "else:\n",
    "    print('Enter valid API Key')\n",
    "    exit()"
   ]
  },
  {
   "attachments": {},
   "cell_type": "markdown",
   "metadata": {},
   "source": [
    "# Import the CSV files"
   ]
  },
  {
   "cell_type": "code",
   "execution_count": null,
   "metadata": {},
   "outputs": [],
   "source": [
    "import glob\n",
    "import os\n",
    "import pandas as pd\n",
    "\n",
    "all_files = glob.glob('./data/output/chatgpt_results_*.csv')\n",
    "df = pd.concat((pd.read_csv(f) for f in all_files))"
   ]
  },
  {
   "cell_type": "code",
   "execution_count": null,
   "metadata": {},
   "outputs": [],
   "source": [
    "df.head(5)"
   ]
  },
  {
   "attachments": {},
   "cell_type": "markdown",
   "metadata": {},
   "source": [
    "# Create new columns for latitude, longitude, and full address"
   ]
  },
  {
   "cell_type": "code",
   "execution_count": null,
   "metadata": {},
   "outputs": [],
   "source": [
    "# Create new columns for latitude, longitude, and full address\n",
    "df['Google_Maps_Latitude'] = ''\n",
    "df['Google_Maps_Longitude'] = ''\n",
    "df['Google_Maps_Full Address'] = ''\n",
    "df.head(1)"
   ]
  },
  {
   "cell_type": "code",
   "execution_count": null,
   "metadata": {},
   "outputs": [],
   "source": [
    "# Geocode each address using the Google Maps Geocoding API\n",
    "for i in tqdm(range(len(df))):\n",
    "    try:\n",
    "        full_address = f\"{df['Institute_chatGPT'][i]}, {df['Country_chatGPT'][i]}\"\n",
    "        params = {'address': full_address, 'key': API_KEY}\n",
    "        response = requests.get(API_ENDPOINT, params=params)\n",
    "        json_response = response.json()\n",
    "        if json_response['status'] == 'OK':\n",
    "            df.loc[i, 'Google_Maps_Latitude'] = json_response['results'][0]['geometry']['location']['lat']\n",
    "            df.loc[i, 'Google_Maps_Longitude'] = json_response['results'][0]['geometry']['location']['lng']\n",
    "            df.loc[i, 'Google_Maps_Full Address'] = json_response['results'][0]['formatted_address']\n",
    "    except:\n",
    "        # If geocoding fails, set the latitude, longitude, and full address columns to empty strings\n",
    "        df.loc[i, 'Google_Maps_Latitude'] = ''\n",
    "        df.loc[i, 'Google_Maps_Longitude'] = ''\n",
    "        df.loc[i, 'Google_Maps_Full Address'] = ''"
   ]
  },
  {
   "cell_type": "code",
   "execution_count": null,
   "metadata": {},
   "outputs": [],
   "source": [
    "df.head(5)"
   ]
  },
  {
   "attachments": {},
   "cell_type": "markdown",
   "metadata": {},
   "source": [
    "# Export"
   ]
  },
  {
   "cell_type": "code",
   "execution_count": null,
   "metadata": {},
   "outputs": [],
   "source": [
    "df.to_csv('./data/output/sample_data_chatgpt_compare_googlemap_Address.csv', index=False)"
   ]
  }
 ],
 "metadata": {
  "kernelspec": {
   "display_name": "Python 3",
   "language": "python",
   "name": "python3"
  },
  "language_info": {
   "codemirror_mode": {
    "name": "ipython",
    "version": 3
   },
   "file_extension": ".py",
   "mimetype": "text/x-python",
   "name": "python",
   "nbconvert_exporter": "python",
   "pygments_lexer": "ipython3",
   "version": "3.10.4"
  },
  "orig_nbformat": 4,
  "vscode": {
   "interpreter": {
    "hash": "31f2aee4e71d21fbe5cf8b01ff0e069b9275f58929596ceb00d14d90e3e16cd6"
   }
  }
 },
 "nbformat": 4,
 "nbformat_minor": 2
}
