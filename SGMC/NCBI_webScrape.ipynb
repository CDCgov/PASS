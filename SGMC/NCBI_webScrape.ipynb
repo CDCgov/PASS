{
 "cells": [
  {
   "attachments": {},
   "cell_type": "markdown",
   "metadata": {},
   "source": [
    "A Jupyter Notebook script for scraping data from the NCBI website\n",
    "    \n",
    "Need to Install\n",
    "\n",
    "<ol>\n",
    "  <li>pip install  BeautifulSoup</li>\n",
    "  <li>pip install  pandas</li>\n",
    "  <li>pip install  tqdm</li>\n",
    "</ol>"
   ]
  },
  {
   "cell_type": "code",
   "execution_count": null,
   "metadata": {},
   "outputs": [],
   "source": [
    "import requests\n",
    "from bs4 import BeautifulSoup\n",
    "import pandas as pd\n",
    "from tqdm import tqdm\n",
    "\n",
    "tqdm.pandas()\n",
    "def find_submited_by(acc_arg):\n",
    "    Answer = dict()\n",
    "    ACC  = str(acc_arg)\n",
    "    URL = f'https://www.ncbi.nlm.nih.gov/sra/?term={ACC}'\n",
    "    page = requests.get(URL)\n",
    "    soup = BeautifulSoup(page.content, 'html.parser')\n",
    "    div_results = soup.find_all('div',class_='sra-full-data')\n",
    "    for num, i in enumerate(div_results):\n",
    "        string=i.getText()\n",
    "        string = string.replace(u'\\xa0', u' ')\n",
    "        if \"Submitted by:\" in string:\n",
    "            Answer['ACC'] = ACC\n",
    "            Answer['Submitted_by'] = string.split(':')[1]\n",
    "            return string.split(':')[1]\n",
    "def find_ID(acc_arg):\n",
    "    Answer = dict()\n",
    "    ACC  = str(acc_arg)\n",
    "    URL = f'https://www.ncbi.nlm.nih.gov/sra/?term={ACC}'\n",
    "    page = requests.get(URL)    \n",
    "    soup1 = BeautifulSoup(page.content, 'html.parser') \n",
    "    div_results2 = soup1.find_all('div',class_='resc')\n",
    "    for num, i in enumerate(div_results2):\n",
    "        string=i.getText()\n",
    "        string = string.replace(u'\\xa0', u' ')\n",
    "        if \"ID:\" in string:\n",
    "            Answer['ACC'] = ACC\n",
    "            Answer['ID'] = string.split(':')[1]\n",
    "            return string.split(':')[1]\n",
    "def find_submission_biosample_field(ID_arg):\n",
    "    Answer = dict()\n",
    "    ID     = str(ID_arg)\n",
    "    URL   = f'https://www.ncbi.nlm.nih.gov/biosample?LinkName=sra_biosample&from_uid={ID}'\n",
    "    page = requests.get(URL)\n",
    "    soup = BeautifulSoup(page.content, 'html.parser')  \n",
    "    div_results = soup.find_all('div',class_='docsum')\n",
    "    for num, i in enumerate(div_results):\n",
    "        string=i.getText()\n",
    "        string = string.replace(u'\\xa0', u'')\n",
    "        if \"Submission\" in string:\n",
    "            return string.split('Submission')[1].split(';')[0]"
   ]
  },
  {
   "cell_type": "code",
   "execution_count": null,
   "metadata": {},
   "outputs": [],
   "source": [
    "df = pd.read_csv('./Data/sample_data.csv')\n",
    "df['Submitted_by'] = df['Acc'].progress_apply(find_submited_by)\n",
    "df['ID'] = df['Acc'].progress_apply(find_ID)\n",
    "df['Biosample_Submission'] = df['ID'].progress_apply(find_submission_biosample_field)"
   ]
  },
  {
   "cell_type": "code",
   "execution_count": null,
   "metadata": {},
   "outputs": [],
   "source": [
    "df = df[['Acc', 'ID', 'Center Names', 'Submitted_by', 'Biosample_Submission']]\n",
    "df.head()"
   ]
  },
  {
   "cell_type": "code",
   "execution_count": null,
   "metadata": {},
   "outputs": [],
   "source": [
    "df.to_csv('./Data_Result/sample_data_Scrape_Result.csv', encoding='utf-8')\n",
    "df.to_csv('./Data/sample_data_Scrape_Result.csv', encoding='utf-8')"
   ]
  },
  {
   "cell_type": "code",
   "execution_count": null,
   "metadata": {},
   "outputs": [],
   "source": []
  }
 ],
 "metadata": {
  "kernelspec": {
   "display_name": "Python 3.10.7 64-bit",
   "language": "python",
   "name": "python3"
  },
  "language_info": {
   "codemirror_mode": {
    "name": "ipython",
    "version": 3
   },
   "file_extension": ".py",
   "mimetype": "text/x-python",
   "name": "python",
   "nbconvert_exporter": "python",
   "pygments_lexer": "ipython3",
   "version": "3.10.7"
  },
  "orig_nbformat": 4,
  "vscode": {
   "interpreter": {
    "hash": "aee8b7b246df8f9039afb4144a1f6fd8d2ca17a180786b69acc140d282b71a49"
   }
  }
 },
 "nbformat": 4,
 "nbformat_minor": 2
}
