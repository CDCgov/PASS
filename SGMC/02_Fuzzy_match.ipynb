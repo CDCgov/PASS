{
 "cells": [
  {
   "attachments": {},
   "cell_type": "markdown",
   "metadata": {},
   "source": [
    "## Install"
   ]
  },
  {
   "attachments": {},
   "cell_type": "markdown",
   "metadata": {},
   "source": [
    "!pip install  fuzzywuzzy"
   ]
  },
  {
   "attachments": {},
   "cell_type": "markdown",
   "metadata": {},
   "source": [
    "## Import"
   ]
  },
  {
   "cell_type": "code",
   "execution_count": 1,
   "metadata": {},
   "outputs": [],
   "source": [
    "import pandas as pd\n",
    "from fuzzywuzzy import fuzz\n",
    "from fuzzywuzzy import process\n",
    "from tqdm import tqdm\n",
    "import re"
   ]
  },
  {
   "cell_type": "code",
   "execution_count": 5,
   "metadata": {},
   "outputs": [],
   "source": [
    "# Load the first CSV file into a Pandas dataframe\n",
    "df1 = pd.read_csv(\"./data/output/sample_data_Scrape_Result.csv\")\n",
    "# Load the second CSV file into a second Pandas dataframe\n",
    "df2 = pd.read_csv(\"./data/input/Globe-institution_data.csv\")"
   ]
  },
  {
   "cell_type": "code",
   "execution_count": 6,
   "metadata": {},
   "outputs": [
    {
     "data": {
      "text/html": [
       "<div>\n",
       "<style scoped>\n",
       "    .dataframe tbody tr th:only-of-type {\n",
       "        vertical-align: middle;\n",
       "    }\n",
       "\n",
       "    .dataframe tbody tr th {\n",
       "        vertical-align: top;\n",
       "    }\n",
       "\n",
       "    .dataframe thead th {\n",
       "        text-align: right;\n",
       "    }\n",
       "</style>\n",
       "<table border=\"1\" class=\"dataframe\">\n",
       "  <thead>\n",
       "    <tr style=\"text-align: right;\">\n",
       "      <th></th>\n",
       "      <th>Unnamed: 0</th>\n",
       "      <th>Acc</th>\n",
       "      <th>ID</th>\n",
       "      <th>Center Names</th>\n",
       "      <th>Submitted_by</th>\n",
       "      <th>Biosample_Submission</th>\n",
       "    </tr>\n",
       "  </thead>\n",
       "  <tbody>\n",
       "    <tr>\n",
       "      <th>0</th>\n",
       "      <td>0</td>\n",
       "      <td>SRR8606903</td>\n",
       "      <td>7314038</td>\n",
       "      <td>AUSTRALIAN INSTITUTE OF MARINCE SCIENCES</td>\n",
       "      <td>Australian Institute of Marince sciences</td>\n",
       "      <td>Australian Institute of Marince sciences, Patr...</td>\n",
       "    </tr>\n",
       "    <tr>\n",
       "      <th>1</th>\n",
       "      <td>1</td>\n",
       "      <td>SRR11788653</td>\n",
       "      <td>10848896</td>\n",
       "      <td>CLARK UNIVERSITY</td>\n",
       "      <td>Clark University</td>\n",
       "      <td>Clark University, Nathan Ahlgren</td>\n",
       "    </tr>\n",
       "    <tr>\n",
       "      <th>2</th>\n",
       "      <td>2</td>\n",
       "      <td>SRR9158324</td>\n",
       "      <td>7959983</td>\n",
       "      <td>CALIFORNIA STATE UNIVERSITY FULLERTON</td>\n",
       "      <td>California State University Fullerton</td>\n",
       "      <td>California State University Fullerton, Maria R...</td>\n",
       "    </tr>\n",
       "    <tr>\n",
       "      <th>3</th>\n",
       "      <td>3</td>\n",
       "      <td>SRR11881309</td>\n",
       "      <td>10964535</td>\n",
       "      <td>CALIFORNIA STATE UNIVERSITY, FULLERTON</td>\n",
       "      <td>California State University, Fullerton</td>\n",
       "      <td>California State University, Fullerton, Joshua...</td>\n",
       "    </tr>\n",
       "    <tr>\n",
       "      <th>4</th>\n",
       "      <td>4</td>\n",
       "      <td>SRR10293930</td>\n",
       "      <td>9209919</td>\n",
       "      <td>CALIFORNIA STATE UNIVERSITY, LOS ANGELES</td>\n",
       "      <td>California State University, Los Angeles</td>\n",
       "      <td>California State University, Los Angeles, Kirs...</td>\n",
       "    </tr>\n",
       "  </tbody>\n",
       "</table>\n",
       "</div>"
      ],
      "text/plain": [
       "   Unnamed: 0          Acc        ID  \\\n",
       "0           0   SRR8606903   7314038   \n",
       "1           1  SRR11788653  10848896   \n",
       "2           2   SRR9158324   7959983   \n",
       "3           3  SRR11881309  10964535   \n",
       "4           4  SRR10293930   9209919   \n",
       "\n",
       "                               Center Names  \\\n",
       "0  AUSTRALIAN INSTITUTE OF MARINCE SCIENCES   \n",
       "1                          CLARK UNIVERSITY   \n",
       "2     CALIFORNIA STATE UNIVERSITY FULLERTON   \n",
       "3    CALIFORNIA STATE UNIVERSITY, FULLERTON   \n",
       "4  CALIFORNIA STATE UNIVERSITY, LOS ANGELES   \n",
       "\n",
       "                                Submitted_by  \\\n",
       "0   Australian Institute of Marince sciences   \n",
       "1                           Clark University   \n",
       "2      California State University Fullerton   \n",
       "3     California State University, Fullerton   \n",
       "4   California State University, Los Angeles   \n",
       "\n",
       "                                Biosample_Submission  \n",
       "0  Australian Institute of Marince sciences, Patr...  \n",
       "1                   Clark University, Nathan Ahlgren  \n",
       "2  California State University Fullerton, Maria R...  \n",
       "3  California State University, Fullerton, Joshua...  \n",
       "4  California State University, Los Angeles, Kirs...  "
      ]
     },
     "execution_count": 6,
     "metadata": {},
     "output_type": "execute_result"
    }
   ],
   "source": [
    "df1.head(5)\n"
   ]
  },
  {
   "cell_type": "code",
   "execution_count": 12,
   "metadata": {},
   "outputs": [
    {
     "name": "stderr",
     "output_type": "stream",
     "text": [
      "Columns: 100%|██████████| 3/3 [00:02<00:00,  1.01it/s]\n"
     ]
    }
   ],
   "source": [
    "# List to hold the results\n",
    "results = []\n",
    "# Set to hold the 'Acc' values for which matches have already been found\n",
    "matched_ids = set()\n",
    "# Iterate over the columns in df1\n",
    "for column in tqdm(['Center Names', 'Submitted_by', 'Biosample_Submission'], desc='Columns'):\n",
    "    # Iterate over the rows in df1\n",
    "    for index, row in tqdm(df1.iterrows(), total=df1.shape[0], desc='Rows', leave=False):\n",
    "        # Check if this 'Acc' has already been matched\n",
    "        if row['Acc'] in matched_ids:\n",
    "            continue\n",
    "        # Convert the series to a string\n",
    "        string = str(row[column])\n",
    "        # Check if the column contains a comma\n",
    "        if ',' in string:\n",
    "            # Split the string into two parts based on the comma\n",
    "            parts = string.split(',')\n",
    "            # Find the closest match in df2 for each part\n",
    "            matches = [process.extractOne(part.strip(), df2['Institution'], scorer=fuzz.token_sort_ratio) for part in parts]\n",
    "            # Check if there is a match for both parts\n",
    "            if all(match and match[1] >= 70 for match in matches):\n",
    "                # Get the indices of the matching rows in df2\n",
    "                match_indices = [df2[df2['Institution'] == match[0]].index[0] for match in matches]\n",
    "                # Concatenate the rows from df1 and df2 and add to the results list\n",
    "                result = pd.concat([df1.loc[[index], :].reset_index(drop=True), df2.loc[match_indices, :].reset_index(drop=True)], axis=1)\n",
    "                result['Score'] = sum(match[1] for match in matches) / len(matches)\n",
    "                results.append(result)\n",
    "                # Add the 'Acc' value to the set of matched ids\n",
    "                matched_ids.add(row['Acc'])\n",
    "        else:\n",
    "            # Find the closest match in df2\n",
    "            match = process.extractOne(string, df2['Institution'], scorer=fuzz.token_sort_ratio)\n",
    "            if match and match[1] >= 70:\n",
    "                # Get the index of the matching row in df2\n",
    "                match_index = df2[df2['Institution'] == match[0]].index[0]\n",
    "                # Concatenate the rows from df1 and df2 and add to the results list\n",
    "                result = pd.concat([df1.loc[[index], :].reset_index(drop=True), df2.loc[[match_index], :].reset_index(drop=True)], axis=1)\n",
    "                result['Score'] = match[1]\n",
    "                results.append(result)\n",
    "                # Add the 'Acc' value to the set of matched ids\n",
    "                matched_ids.add(row['Acc'])\n",
    "            else:\n",
    "                # If no match is found or the Score is below 70%, add the row from df1 to the results list\n",
    "                result = df1.loc[[index], :].reset_index(drop=True)\n",
    "                result['Score'] = None\n",
    "                results.append(result)\n",
    "# Concatenate all the results into a single dataframe\n",
    "final_result = pd.concat(results)"
   ]
  },
  {
   "cell_type": "code",
   "execution_count": 23,
   "metadata": {},
   "outputs": [
    {
     "data": {
      "text/html": [
       "<div>\n",
       "<style scoped>\n",
       "    .dataframe tbody tr th:only-of-type {\n",
       "        vertical-align: middle;\n",
       "    }\n",
       "\n",
       "    .dataframe tbody tr th {\n",
       "        vertical-align: top;\n",
       "    }\n",
       "\n",
       "    .dataframe thead th {\n",
       "        text-align: right;\n",
       "    }\n",
       "</style>\n",
       "<table border=\"1\" class=\"dataframe\">\n",
       "  <thead>\n",
       "    <tr style=\"text-align: right;\">\n",
       "      <th></th>\n",
       "      <th>Unnamed: 0</th>\n",
       "      <th>Acc</th>\n",
       "      <th>ID</th>\n",
       "      <th>Center Names</th>\n",
       "      <th>Submitted_by</th>\n",
       "      <th>Biosample_Submission</th>\n",
       "      <th>Institution</th>\n",
       "      <th>Country/territory</th>\n",
       "      <th>Score</th>\n",
       "    </tr>\n",
       "  </thead>\n",
       "  <tbody>\n",
       "    <tr>\n",
       "      <th>0</th>\n",
       "      <td>0.0</td>\n",
       "      <td>SRR8606903</td>\n",
       "      <td>7314038.0</td>\n",
       "      <td>AUSTRALIAN INSTITUTE OF MARINCE SCIENCES</td>\n",
       "      <td>Australian Institute of Marince sciences</td>\n",
       "      <td>Australian Institute of Marince sciences, Patr...</td>\n",
       "      <td>Australian Institute of Marine Science (AIMS)</td>\n",
       "      <td>Australia</td>\n",
       "      <td>92.0</td>\n",
       "    </tr>\n",
       "    <tr>\n",
       "      <th>0</th>\n",
       "      <td>1.0</td>\n",
       "      <td>SRR11788653</td>\n",
       "      <td>10848896.0</td>\n",
       "      <td>CLARK UNIVERSITY</td>\n",
       "      <td>Clark University</td>\n",
       "      <td>Clark University, Nathan Ahlgren</td>\n",
       "      <td>Clark University</td>\n",
       "      <td>United States of America (USA)</td>\n",
       "      <td>100.0</td>\n",
       "    </tr>\n",
       "    <tr>\n",
       "      <th>0</th>\n",
       "      <td>2.0</td>\n",
       "      <td>SRR9158324</td>\n",
       "      <td>7959983.0</td>\n",
       "      <td>CALIFORNIA STATE UNIVERSITY FULLERTON</td>\n",
       "      <td>California State University Fullerton</td>\n",
       "      <td>California State University Fullerton, Maria R...</td>\n",
       "      <td>California State University, Fullerton (CSUF)</td>\n",
       "      <td>United States of America (USA)</td>\n",
       "      <td>94.0</td>\n",
       "    </tr>\n",
       "    <tr>\n",
       "      <th>0</th>\n",
       "      <td>6.0</td>\n",
       "      <td>SRR10018586</td>\n",
       "      <td>8900739.0</td>\n",
       "      <td>CFSAN</td>\n",
       "      <td>FDA Center for Food Safety and Applied Nutrit...</td>\n",
       "      <td>CFSAN</td>\n",
       "      <td>NaN</td>\n",
       "      <td>NaN</td>\n",
       "      <td>NaN</td>\n",
       "    </tr>\n",
       "    <tr>\n",
       "      <th>0</th>\n",
       "      <td>8.0</td>\n",
       "      <td>SRR10406092</td>\n",
       "      <td>9345478.0</td>\n",
       "      <td>AUSTRALIAN INSTITUTE OF MARINE SCIENCE</td>\n",
       "      <td>Australian Institute of Marine Science</td>\n",
       "      <td>Australian Institute of Marine Science, Heidi ...</td>\n",
       "      <td>Australian Institute of Marine Science (AIMS)</td>\n",
       "      <td>Australia</td>\n",
       "      <td>94.0</td>\n",
       "    </tr>\n",
       "  </tbody>\n",
       "</table>\n",
       "</div>"
      ],
      "text/plain": [
       "   Unnamed: 0          Acc          ID  \\\n",
       "0         0.0   SRR8606903   7314038.0   \n",
       "0         1.0  SRR11788653  10848896.0   \n",
       "0         2.0   SRR9158324   7959983.0   \n",
       "0         6.0  SRR10018586   8900739.0   \n",
       "0         8.0  SRR10406092   9345478.0   \n",
       "\n",
       "                               Center Names  \\\n",
       "0  AUSTRALIAN INSTITUTE OF MARINCE SCIENCES   \n",
       "0                          CLARK UNIVERSITY   \n",
       "0     CALIFORNIA STATE UNIVERSITY FULLERTON   \n",
       "0                                     CFSAN   \n",
       "0    AUSTRALIAN INSTITUTE OF MARINE SCIENCE   \n",
       "\n",
       "                                        Submitted_by  \\\n",
       "0           Australian Institute of Marince sciences   \n",
       "0                                   Clark University   \n",
       "0              California State University Fullerton   \n",
       "0   FDA Center for Food Safety and Applied Nutrit...   \n",
       "0             Australian Institute of Marine Science   \n",
       "\n",
       "                                Biosample_Submission  \\\n",
       "0  Australian Institute of Marince sciences, Patr...   \n",
       "0                   Clark University, Nathan Ahlgren   \n",
       "0  California State University Fullerton, Maria R...   \n",
       "0                                              CFSAN   \n",
       "0  Australian Institute of Marine Science, Heidi ...   \n",
       "\n",
       "                                     Institution  \\\n",
       "0  Australian Institute of Marine Science (AIMS)   \n",
       "0                               Clark University   \n",
       "0  California State University, Fullerton (CSUF)   \n",
       "0                                            NaN   \n",
       "0  Australian Institute of Marine Science (AIMS)   \n",
       "\n",
       "                Country/territory  Score  \n",
       "0                       Australia   92.0  \n",
       "0  United States of America (USA)  100.0  \n",
       "0  United States of America (USA)   94.0  \n",
       "0                             NaN    NaN  \n",
       "0                       Australia   94.0  "
      ]
     },
     "execution_count": 23,
     "metadata": {},
     "output_type": "execute_result"
    }
   ],
   "source": [
    "final_result.head(5)\n"
   ]
  },
  {
   "attachments": {},
   "cell_type": "markdown",
   "metadata": {},
   "source": [
    "# Split the results into separate dataframes based on the Score score"
   ]
  },
  {
   "cell_type": "code",
   "execution_count": 14,
   "metadata": {},
   "outputs": [],
   "source": [
    "above_90 = final_result[final_result['Score'] >= 90]\n",
    "above_80 = final_result[(final_result['Score'] >= 80) & (final_result['Score'] < 90)]\n",
    "above_70 = final_result[(final_result['Score'] >= 70) & (final_result['Score'] < 80)]\n",
    "below_70 = final_result[final_result['Score'] < 70]\n",
    "below_69 = below_70[below_70['Score'] < 69]"
   ]
  },
  {
   "attachments": {},
   "cell_type": "markdown",
   "metadata": {},
   "source": [
    "# Check if the number of unique 'Acc' values in final_result matches the number of rows in df1"
   ]
  },
  {
   "cell_type": "code",
   "execution_count": 15,
   "metadata": {},
   "outputs": [
    {
     "name": "stdout",
     "output_type": "stream",
     "text": [
      "Result does not contain a row for every 'Acc' in df1\n"
     ]
    }
   ],
   "source": [
    "if final_result['Acc'].nunique() == df1.shape[0]:\n",
    "    print(\"Result contains a row for every 'Acc' in df1\")\n",
    "else:\n",
    "    print(\"Result does not contain a row for every 'Acc' in df1\")"
   ]
  },
  {
   "cell_type": "code",
   "execution_count": 17,
   "metadata": {},
   "outputs": [
    {
     "data": {
      "text/plain": [
       "Unnamed: 0              12\n",
       "Acc                     12\n",
       "ID                      12\n",
       "Center Names            12\n",
       "Submitted_by            12\n",
       "Biosample_Submission    12\n",
       "Institution             12\n",
       "Country/territory       12\n",
       "Score                   12\n",
       "dtype: int64"
      ]
     },
     "execution_count": 17,
     "metadata": {},
     "output_type": "execute_result"
    }
   ],
   "source": [
    "above_90.count()\n"
   ]
  },
  {
   "cell_type": "code",
   "execution_count": 18,
   "metadata": {},
   "outputs": [
    {
     "data": {
      "text/plain": [
       "Unnamed: 0              6\n",
       "Acc                     6\n",
       "ID                      6\n",
       "Center Names            6\n",
       "Submitted_by            6\n",
       "Biosample_Submission    6\n",
       "Institution             6\n",
       "Country/territory       6\n",
       "Score                   6\n",
       "dtype: int64"
      ]
     },
     "execution_count": 18,
     "metadata": {},
     "output_type": "execute_result"
    }
   ],
   "source": [
    "above_80.count()"
   ]
  },
  {
   "cell_type": "code",
   "execution_count": 19,
   "metadata": {},
   "outputs": [
    {
     "data": {
      "text/plain": [
       "Unnamed: 0              10\n",
       "Acc                     10\n",
       "ID                      10\n",
       "Center Names            10\n",
       "Submitted_by            10\n",
       "Biosample_Submission    10\n",
       "Institution             11\n",
       "Country/territory       11\n",
       "Score                   11\n",
       "dtype: int64"
      ]
     },
     "execution_count": 19,
     "metadata": {},
     "output_type": "execute_result"
    }
   ],
   "source": [
    "above_70.count()"
   ]
  },
  {
   "cell_type": "code",
   "execution_count": 21,
   "metadata": {},
   "outputs": [
    {
     "data": {
      "text/plain": [
       "Unnamed: 0              0\n",
       "Acc                     0\n",
       "ID                      0\n",
       "Center Names            0\n",
       "Submitted_by            0\n",
       "Biosample_Submission    0\n",
       "Institution             0\n",
       "Country/territory       0\n",
       "Score                   0\n",
       "dtype: int64"
      ]
     },
     "execution_count": 21,
     "metadata": {},
     "output_type": "execute_result"
    }
   ],
   "source": [
    "below_69.count()"
   ]
  },
  {
   "attachments": {},
   "cell_type": "markdown",
   "metadata": {},
   "source": [
    "# Save each dataframe to a separate CSV file"
   ]
  },
  {
   "cell_type": "code",
   "execution_count": 24,
   "metadata": {},
   "outputs": [],
   "source": [
    "above_90.to_csv('./data/output/sample_data_above_90.csv', index=False, encoding='utf-8')\n",
    "above_80.to_csv('./data/output/sample_data_above_80.csv', index=False, encoding='utf-8')\n",
    "above_70.to_csv('./data/output/sample_data_above_70.csv', index=False, encoding='utf-8')\n",
    "below_70.to_csv('./data/output/sample_data_below_69.csv', index=False, encoding='utf-8')"
   ]
  },
  {
   "attachments": {},
   "cell_type": "markdown",
   "metadata": {},
   "source": [
    "# Save the final result"
   ]
  },
  {
   "cell_type": "code",
   "execution_count": 25,
   "metadata": {},
   "outputs": [],
   "source": [
    "final_result.to_csv('./data/output/sample_data_Fuzzy_result.csv', encoding='utf-8')"
   ]
  }
 ],
 "metadata": {
  "kernelspec": {
   "display_name": "Python 3.10.7 64-bit",
   "language": "python",
   "name": "python3"
  },
  "language_info": {
   "codemirror_mode": {
    "name": "ipython",
    "version": 3
   },
   "file_extension": ".py",
   "mimetype": "text/x-python",
   "name": "python",
   "nbconvert_exporter": "python",
   "pygments_lexer": "ipython3",
   "version": "3.10.7"
  },
  "orig_nbformat": 4,
  "vscode": {
   "interpreter": {
    "hash": "aee8b7b246df8f9039afb4144a1f6fd8d2ca17a180786b69acc140d282b71a49"
   }
  }
 },
 "nbformat": 4,
 "nbformat_minor": 2
}
