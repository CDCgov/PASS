{
 "cells": [
  {
   "attachments": {},
   "cell_type": "markdown",
   "id": "125890e9",
   "metadata": {},
   "source": [
    "## NCBI SRA in the Cloud\n",
    "\n",
    "In this notebook we use BigQuery API client to get SRA center_names for a given accession target list.\n",
    "\n",
    "This notebook requires a Google Cloud Platform (GCP) service account, use the following links to create an account: https://cloud.google.com/iam/docs/service-accounts-create#creating\n",
    "\n",
    "and read the associated reference: https://googleapis.dev/python/google-api-core/latest/auth.html#service-accounts\n",
    "\n",
    "Then, use the following link for instructions on how to create a GCP service account key: https://cloud.google.com/iam/docs/keys-create-delete\n",
    "\n",
    "You will need to enter the path to the JSON service account key file when prompted below."
   ]
  },
  {
   "cell_type": "code",
   "execution_count": 1,
   "id": "5160ae70-ddcf-4394-9dbf-15275d1c18b4",
   "metadata": {},
   "outputs": [
    {
     "name": "stdout",
     "output_type": "stream",
     "text": [
      "Name: google-cloud-bigquery\n",
      "Version: 3.11.0\n",
      "Summary: Google BigQuery API client library\n",
      "Home-page: https://github.com/googleapis/python-bigquery\n",
      "Author: Google LLC\n",
      "Author-email: googleapis-packages@google.com\n",
      "License: Apache 2.0\n",
      "Location: /workspaces/PASS/.venv/lib/python3.10/site-packages\n",
      "Requires: google-api-core, google-cloud-core, google-resumable-media, grpcio, packaging, proto-plus, protobuf, python-dateutil, requests\n",
      "Required-by: \n"
     ]
    }
   ],
   "source": [
    "!pip show google-cloud-bigquery"
   ]
  },
  {
   "cell_type": "code",
   "execution_count": 2,
   "id": "d9fa4041-b082-4b09-b6bf-498ea03341ea",
   "metadata": {},
   "outputs": [
    {
     "name": "stdout",
     "output_type": "stream",
     "text": [
      "Name: db-dtypes\n",
      "Version: 1.1.1\n",
      "Summary: Pandas Data Types for SQL systems (BigQuery, Spanner)\n",
      "Home-page: https://github.com/googleapis/python-db-dtypes-pandas\n",
      "Author: The db-dtypes Authors\n",
      "Author-email: googleapis-packages@google.com\n",
      "License: \n",
      "Location: /workspaces/PASS/.venv/lib/python3.10/site-packages\n",
      "Requires: numpy, packaging, pandas, pyarrow\n",
      "Required-by: \n"
     ]
    }
   ],
   "source": [
    "!pip show db-dtypes"
   ]
  },
  {
   "cell_type": "code",
   "execution_count": 3,
   "id": "e54ec63d-fc1b-45e2-b1fb-2636a0123965",
   "metadata": {},
   "outputs": [],
   "source": [
    "import os\n",
    "\n",
    "from google.oauth2 import service_account\n",
    "\n",
    "# Get the file path to the GCP key file\n",
    "key_file = input('Enter the file path to your GCP key file (e.g. C:\\\\Users\\\\user\\\\testkeyfile.json or /home/user/testkeyfile.json) and press Enter:') \n",
    "\n",
    "# Check to make certain the path exists and either get the credentials or return an error message\n",
    "if os.path.exists(key_file):\n",
    "    \n",
    "    credentials = service_account.Credentials.from_service_account_file(key_file)\n",
    "    \n",
    "else: \n",
    "    \n",
    "    print('Error: No such file or directory is found')"
   ]
  },
  {
   "cell_type": "code",
   "execution_count": 4,
   "id": "6de340b6-de13-4bfd-8966-c904f2c32e76",
   "metadata": {},
   "outputs": [
    {
     "data": {
      "text/html": [
       "<div>\n",
       "<style scoped>\n",
       "    .dataframe tbody tr th:only-of-type {\n",
       "        vertical-align: middle;\n",
       "    }\n",
       "\n",
       "    .dataframe tbody tr th {\n",
       "        vertical-align: top;\n",
       "    }\n",
       "\n",
       "    .dataframe thead th {\n",
       "        text-align: right;\n",
       "    }\n",
       "</style>\n",
       "<table border=\"1\" class=\"dataframe\">\n",
       "  <thead>\n",
       "    <tr style=\"text-align: right;\">\n",
       "      <th></th>\n",
       "      <th>Acc</th>\n",
       "      <th>Center_Names</th>\n",
       "    </tr>\n",
       "  </thead>\n",
       "  <tbody>\n",
       "    <tr>\n",
       "      <th>0</th>\n",
       "      <td>ERR3347078</td>\n",
       "      <td>UMR 1232</td>\n",
       "    </tr>\n",
       "    <tr>\n",
       "      <th>1</th>\n",
       "      <td>ERR006603</td>\n",
       "      <td>CU</td>\n",
       "    </tr>\n",
       "    <tr>\n",
       "      <th>2</th>\n",
       "      <td>SRR10738145</td>\n",
       "      <td>ADDIS ABABA UNIVERSITY</td>\n",
       "    </tr>\n",
       "    <tr>\n",
       "      <th>3</th>\n",
       "      <td>SRR10202400</td>\n",
       "      <td>CHILDREN'S HOSPITAL OF FUDAN UNIVERSITY</td>\n",
       "    </tr>\n",
       "    <tr>\n",
       "      <th>4</th>\n",
       "      <td>SRR11609212</td>\n",
       "      <td>CHILDREN HOSPITAL OF GUANGXI ZHUANG AUTONOMOUS...</td>\n",
       "    </tr>\n",
       "    <tr>\n",
       "      <th>5</th>\n",
       "      <td>SRR12147237</td>\n",
       "      <td>CHINA ACADEMY OF CHINESE MEDICAL SCIENCES</td>\n",
       "    </tr>\n",
       "    <tr>\n",
       "      <th>6</th>\n",
       "      <td>SRR11423752</td>\n",
       "      <td>CHILDREN'S HOSPITAL OF CHONGQING MEDICAL UNIVE...</td>\n",
       "    </tr>\n",
       "    <tr>\n",
       "      <th>7</th>\n",
       "      <td>SRR11478637</td>\n",
       "      <td>SOUTH VALLEY UNIVERSITY</td>\n",
       "    </tr>\n",
       "  </tbody>\n",
       "</table>\n",
       "</div>"
      ],
      "text/plain": [
       "           Acc                                       Center_Names\n",
       "0   ERR3347078                                           UMR 1232\n",
       "1    ERR006603                                                 CU\n",
       "2  SRR10738145                             ADDIS ABABA UNIVERSITY\n",
       "3  SRR10202400            CHILDREN'S HOSPITAL OF FUDAN UNIVERSITY\n",
       "4  SRR11609212  CHILDREN HOSPITAL OF GUANGXI ZHUANG AUTONOMOUS...\n",
       "5  SRR12147237          CHINA ACADEMY OF CHINESE MEDICAL SCIENCES\n",
       "6  SRR11423752  CHILDREN'S HOSPITAL OF CHONGQING MEDICAL UNIVE...\n",
       "7  SRR11478637                            SOUTH VALLEY UNIVERSITY"
      ]
     },
     "execution_count": 4,
     "metadata": {},
     "output_type": "execute_result"
    }
   ],
   "source": [
    "from google.cloud import bigquery\n",
    "import pandas as pd\n",
    "\n",
    "def search_database(target_acc_df):\n",
    "    # Create a BigQuery client\n",
    "    client = bigquery.Client(credentials=credentials)\n",
    "\n",
    "    # Create the SQL query\n",
    "    sql_query = f\"SELECT acc, center_name FROM `nih-sra-datastore.sra.metadata` WHERE acc IN {tuple(target_acc_df['Acc'])}\"\n",
    "\n",
    "    # Run the SQL query\n",
    "    query_job = client.query(sql_query)\n",
    "\n",
    "    # Get the results as a Pandas DataFrame\n",
    "    results_df = query_job.to_dataframe()\n",
    "\n",
    "    # Return the results DataFrame\n",
    "    return results_df\n",
    "\n",
    "# Example usage\n",
    "target_acc_df = pd.read_csv('./data/input/sample_accessions.csv')\n",
    "\n",
    "matching_df = search_database(target_acc_df)\n",
    "matching_df = matching_df.rename(columns={\"acc\": \"Acc\", \"center_name\":\"Center_Names\"})\n",
    "matching_df.head(8)\n"
   ]
  },
  {
   "cell_type": "code",
   "execution_count": 5,
   "id": "f64f8b06-0967-41d2-81a6-64d998ed2464",
   "metadata": {},
   "outputs": [],
   "source": [
    "matching_df.to_csv('./data/output/sample_data.csv', encoding='utf-8', index=False)"
   ]
  }
 ],
 "metadata": {
  "kernelspec": {
   "display_name": "Python 3",
   "language": "python",
   "name": "python3"
  },
  "language_info": {
   "codemirror_mode": {
    "name": "ipython",
    "version": 3
   },
   "file_extension": ".py",
   "mimetype": "text/x-python",
   "name": "python",
   "nbconvert_exporter": "python",
   "pygments_lexer": "ipython3",
   "version": "3.10.6"
  }
 },
 "nbformat": 4,
 "nbformat_minor": 5
}
