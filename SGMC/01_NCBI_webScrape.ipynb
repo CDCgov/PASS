{
 "cells": [
  {
   "attachments": {},
   "cell_type": "markdown",
   "metadata": {},
   "source": [
    "A Jupyter Notebook script for scraping data from the NCBI website\n",
    "    \n",
    "## Install"
   ]
  },
  {
   "cell_type": "code",
   "execution_count": null,
   "metadata": {},
   "outputs": [],
   "source": [
    "!pip install  BeautifulSoup"
   ]
  },
  {
   "cell_type": "code",
   "execution_count": null,
   "metadata": {},
   "outputs": [],
   "source": [
    "!pip install requests"
   ]
  },
  {
   "cell_type": "code",
   "execution_count": null,
   "metadata": {},
   "outputs": [],
   "source": [
    "!pip install  pandas"
   ]
  },
  {
   "cell_type": "code",
   "execution_count": null,
   "metadata": {},
   "outputs": [],
   "source": [
    "!pip install  tqdm"
   ]
  },
  {
   "attachments": {},
   "cell_type": "markdown",
   "metadata": {},
   "source": [
    "## Import"
   ]
  },
  {
   "cell_type": "code",
   "execution_count": 3,
   "metadata": {},
   "outputs": [],
   "source": [
    "import requests\n",
    "from bs4 import BeautifulSoup\n",
    "import pandas as pd\n",
    "from tqdm import tqdm\n"
   ]
  },
  {
   "cell_type": "code",
   "execution_count": 4,
   "metadata": {},
   "outputs": [],
   "source": [
    "\n",
    "tqdm.pandas()\n",
    "def find_submited_by(acc_arg):\n",
    "    Answer = dict()\n",
    "    ACC  = str(acc_arg)\n",
    "    URL = f'https://www.ncbi.nlm.nih.gov/sra/?term={ACC}'\n",
    "    page = requests.get(URL)\n",
    "    soup = BeautifulSoup(page.content, 'html.parser')\n",
    "    div_results = soup.find_all('div',class_='sra-full-data')\n",
    "    for num, i in enumerate(div_results):\n",
    "        string=i.getText()\n",
    "        string = string.replace(u'\\xa0', u' ')\n",
    "        if \"Submitted by:\" in string:\n",
    "            Answer['ACC'] = ACC\n",
    "            Answer['Submitted_by'] = string.split(':')[1]\n",
    "            return string.split(':')[1]\n",
    "def find_ID(acc_arg):\n",
    "    Answer = dict()\n",
    "    ACC  = str(acc_arg)\n",
    "    URL = f'https://www.ncbi.nlm.nih.gov/sra/?term={ACC}'\n",
    "    page = requests.get(URL)    \n",
    "    soup1 = BeautifulSoup(page.content, 'html.parser') \n",
    "    div_results2 = soup1.find_all('div',class_='resc')\n",
    "    for num, i in enumerate(div_results2):\n",
    "        string=i.getText()\n",
    "        string = string.replace(u'\\xa0', u' ')\n",
    "        if \"ID:\" in string:\n",
    "            Answer['ACC'] = ACC\n",
    "            Answer['ID'] = string.split(':')[1]\n",
    "            return string.split(':')[1]\n",
    "def find_submission_biosample_field(ID_arg):\n",
    "    Answer = dict()\n",
    "    ID     = str(ID_arg)\n",
    "    URL   = f'https://www.ncbi.nlm.nih.gov/biosample?LinkName=sra_biosample&from_uid={ID}'\n",
    "    page = requests.get(URL)\n",
    "    soup = BeautifulSoup(page.content, 'html.parser')  \n",
    "    div_results = soup.find_all('div',class_='docsum')\n",
    "    for num, i in enumerate(div_results):\n",
    "        string=i.getText()\n",
    "        string = string.replace(u'\\xa0', u'')\n",
    "        if \"Submission\" in string:\n",
    "            return string.split('Submission')[1].split(';')[0]"
   ]
  },
  {
   "cell_type": "code",
   "execution_count": 5,
   "metadata": {},
   "outputs": [
    {
     "name": "stderr",
     "output_type": "stream",
     "text": [
      "100%|██████████| 33/33 [00:31<00:00,  1.06it/s]\n",
      "100%|██████████| 33/33 [00:32<00:00,  1.01it/s]\n",
      "100%|██████████| 33/33 [00:23<00:00,  1.43it/s]\n"
     ]
    }
   ],
   "source": [
    "df = pd.read_csv('./data/input/sample_data.csv')\n",
    "df['Submitted_by'] = df['Acc'].progress_apply(find_submited_by)\n",
    "df['ID'] = df['Acc'].progress_apply(find_ID)\n",
    "df['Biosample_Submission'] = df['ID'].progress_apply(find_submission_biosample_field)"
   ]
  },
  {
   "attachments": {},
   "cell_type": "markdown",
   "metadata": {},
   "source": [
    "Reorder the columns "
   ]
  },
  {
   "cell_type": "code",
   "execution_count": 6,
   "metadata": {},
   "outputs": [],
   "source": [
    "df = df[['Acc', 'ID', 'Center Names', 'Submitted_by', 'Biosample_Submission']]\n"
   ]
  },
  {
   "cell_type": "code",
   "execution_count": 7,
   "metadata": {},
   "outputs": [
    {
     "data": {
      "text/html": [
       "<div>\n",
       "<style scoped>\n",
       "    .dataframe tbody tr th:only-of-type {\n",
       "        vertical-align: middle;\n",
       "    }\n",
       "\n",
       "    .dataframe tbody tr th {\n",
       "        vertical-align: top;\n",
       "    }\n",
       "\n",
       "    .dataframe thead th {\n",
       "        text-align: right;\n",
       "    }\n",
       "</style>\n",
       "<table border=\"1\" class=\"dataframe\">\n",
       "  <thead>\n",
       "    <tr style=\"text-align: right;\">\n",
       "      <th></th>\n",
       "      <th>Acc</th>\n",
       "      <th>ID</th>\n",
       "      <th>Center Names</th>\n",
       "      <th>Submitted_by</th>\n",
       "      <th>Biosample_Submission</th>\n",
       "    </tr>\n",
       "  </thead>\n",
       "  <tbody>\n",
       "    <tr>\n",
       "      <th>0</th>\n",
       "      <td>SRR8606903</td>\n",
       "      <td>7314038</td>\n",
       "      <td>AUSTRALIAN INSTITUTE OF MARINCE SCIENCES</td>\n",
       "      <td>Australian Institute of Marince sciences</td>\n",
       "      <td>Australian Institute of Marince sciences, Patr...</td>\n",
       "    </tr>\n",
       "    <tr>\n",
       "      <th>1</th>\n",
       "      <td>SRR11788653</td>\n",
       "      <td>10848896</td>\n",
       "      <td>CLARK UNIVERSITY</td>\n",
       "      <td>Clark University</td>\n",
       "      <td>Clark University, Nathan Ahlgren</td>\n",
       "    </tr>\n",
       "    <tr>\n",
       "      <th>2</th>\n",
       "      <td>SRR9158324</td>\n",
       "      <td>7959983</td>\n",
       "      <td>CALIFORNIA STATE UNIVERSITY FULLERTON</td>\n",
       "      <td>California State University Fullerton</td>\n",
       "      <td>California State University Fullerton, Maria R...</td>\n",
       "    </tr>\n",
       "    <tr>\n",
       "      <th>3</th>\n",
       "      <td>SRR11881309</td>\n",
       "      <td>10964535</td>\n",
       "      <td>CALIFORNIA STATE UNIVERSITY, FULLERTON</td>\n",
       "      <td>California State University, Fullerton</td>\n",
       "      <td>California State University, Fullerton, Joshua...</td>\n",
       "    </tr>\n",
       "    <tr>\n",
       "      <th>4</th>\n",
       "      <td>SRR10293930</td>\n",
       "      <td>9209919</td>\n",
       "      <td>CALIFORNIA STATE UNIVERSITY, LOS ANGELES</td>\n",
       "      <td>California State University, Los Angeles</td>\n",
       "      <td>California State University, Los Angeles, Kirs...</td>\n",
       "    </tr>\n",
       "  </tbody>\n",
       "</table>\n",
       "</div>"
      ],
      "text/plain": [
       "           Acc          ID                              Center Names  \\\n",
       "0   SRR8606903    7314038   AUSTRALIAN INSTITUTE OF MARINCE SCIENCES   \n",
       "1  SRR11788653   10848896                           CLARK UNIVERSITY   \n",
       "2   SRR9158324    7959983      CALIFORNIA STATE UNIVERSITY FULLERTON   \n",
       "3  SRR11881309   10964535     CALIFORNIA STATE UNIVERSITY, FULLERTON   \n",
       "4  SRR10293930    9209919   CALIFORNIA STATE UNIVERSITY, LOS ANGELES   \n",
       "\n",
       "                                Submitted_by  \\\n",
       "0   Australian Institute of Marince sciences   \n",
       "1                           Clark University   \n",
       "2      California State University Fullerton   \n",
       "3     California State University, Fullerton   \n",
       "4   California State University, Los Angeles   \n",
       "\n",
       "                                Biosample_Submission  \n",
       "0  Australian Institute of Marince sciences, Patr...  \n",
       "1                   Clark University, Nathan Ahlgren  \n",
       "2  California State University Fullerton, Maria R...  \n",
       "3  California State University, Fullerton, Joshua...  \n",
       "4  California State University, Los Angeles, Kirs...  "
      ]
     },
     "execution_count": 7,
     "metadata": {},
     "output_type": "execute_result"
    }
   ],
   "source": [
    "df.head()"
   ]
  },
  {
   "cell_type": "code",
   "execution_count": 8,
   "metadata": {},
   "outputs": [],
   "source": [
    "df.to_csv('./data/output/sample_data_Scrape_Result.csv', encoding='utf-8')\n"
   ]
  },
  {
   "cell_type": "code",
   "execution_count": null,
   "metadata": {},
   "outputs": [],
   "source": []
  }
 ],
 "metadata": {
  "kernelspec": {
   "display_name": "Python 3.10.7 64-bit",
   "language": "python",
   "name": "python3"
  },
  "language_info": {
   "codemirror_mode": {
    "name": "ipython",
    "version": 3
   },
   "file_extension": ".py",
   "mimetype": "text/x-python",
   "name": "python",
   "nbconvert_exporter": "python",
   "pygments_lexer": "ipython3",
   "version": "3.10.7"
  },
  "orig_nbformat": 4,
  "vscode": {
   "interpreter": {
    "hash": "aee8b7b246df8f9039afb4144a1f6fd8d2ca17a180786b69acc140d282b71a49"
   }
  }
 },
 "nbformat": 4,
 "nbformat_minor": 2
}
