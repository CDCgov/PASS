{
 "cells": [
  {
   "attachments": {},
   "cell_type": "markdown",
   "metadata": {},
   "source": [
    "# NCBI_WebScrape"
   ]
  },
  {
   "attachments": {},
   "cell_type": "markdown",
   "metadata": {},
   "source": [
    "A Jupyter Notebook script for scraping data from the NCBI website"
   ]
  },
  {
   "attachments": {},
   "cell_type": "markdown",
   "metadata": {},
   "source": [
    "## Imports"
   ]
  },
  {
   "cell_type": "code",
   "execution_count": null,
   "metadata": {},
   "outputs": [],
   "source": [
    "import requests\n",
    "from bs4 import BeautifulSoup\n",
    "import pandas as pd\n",
    "from tqdm import tqdm\n"
   ]
  },
  {
   "attachments": {},
   "cell_type": "markdown",
   "metadata": {},
   "source": [
    "### Function Definitions"
   ]
  },
  {
   "cell_type": "code",
   "execution_count": null,
   "metadata": {},
   "outputs": [],
   "source": [
    "\n",
    "tqdm.pandas()\n",
    "def find_submited_by(acc_arg):\n",
    "    Answer = dict()\n",
    "    ACC  = str(acc_arg)\n",
    "    URL = f'https://www.ncbi.nlm.nih.gov/sra/?term={ACC}'\n",
    "    page = requests.get(URL)\n",
    "    soup = BeautifulSoup(page.content, 'html.parser')\n",
    "    div_results = soup.find_all('div',class_='sra-full-data')\n",
    "    for num, i in enumerate(div_results):\n",
    "        string=i.getText()\n",
    "        string = string.replace(u'\\xa0', u' ')\n",
    "        if \"Submitted by:\" in string:\n",
    "            Answer['ACC'] = ACC\n",
    "            Answer['Submitted_by'] = string.split(':')[1]\n",
    "            return string.split(':')[1]\n",
    "def find_ID(acc_arg):\n",
    "    Answer = dict()\n",
    "    ACC  = str(acc_arg)\n",
    "    URL = f'https://www.ncbi.nlm.nih.gov/sra/?term={ACC}'\n",
    "    page = requests.get(URL)    \n",
    "    soup1 = BeautifulSoup(page.content, 'html.parser') \n",
    "    div_results2 = soup1.find_all('div',class_='resc')\n",
    "    for num, i in enumerate(div_results2):\n",
    "        string=i.getText()\n",
    "        string = string.replace(u'\\xa0', u' ')\n",
    "        if \"ID:\" in string:\n",
    "            Answer['ACC'] = ACC\n",
    "            Answer['ID'] = string.split(':')[1]\n",
    "            return string.split(':')[1]\n",
    "def find_submission_biosample_field(ID_arg):\n",
    "    Answer = dict()\n",
    "    ID     = str(ID_arg)\n",
    "    URL   = f'https://www.ncbi.nlm.nih.gov/biosample?LinkName=sra_biosample&from_uid={ID}'\n",
    "    page = requests.get(URL)\n",
    "    soup = BeautifulSoup(page.content, 'html.parser')  \n",
    "    div_results = soup.find_all('div',class_='docsum')\n",
    "    for num, i in enumerate(div_results):\n",
    "        string=i.getText()\n",
    "        string = string.replace(u'\\xa0', u'')\n",
    "        if \"Submission\" in string:\n",
    "            return string.split('Submission')[1].split(';')[0]\n",
    "\n",
    "def find_submission_bioproject_field(ID_arg):\n",
    "    ID = str(ID_arg)\n",
    "    URL = f'https://www.ncbi.nlm.nih.gov/bioproject?LinkName=sra_bioproject&from_uid={ID}'\n",
    "    page = requests.get(URL)\n",
    "    soup = BeautifulSoup(page.content, 'html.parser')  \n",
    "    div_results = soup.find_all('table', id='CombinedTable')\n",
    "    if div_results:\n",
    "        submission_info = div_results[0].find('td', text='Submission')\n",
    "        if submission_info is not None:\n",
    "            return submission_info.find_next_sibling('td').find('b').get_text()\n",
    "    return None"
   ]
  },
  {
   "cell_type": "code",
   "execution_count": null,
   "metadata": {},
   "outputs": [],
   "source": [
    "df = pd.read_csv('./data/input/sample_data.csv')\n",
    "df['Submitted_by'] = df['Acc'].progress_apply(find_submited_by)\n",
    "df['ID'] = df['Acc'].progress_apply(find_ID)\n",
    "df['Biosample_Submission'] = df['ID'].progress_apply(find_submission_biosample_field)\n",
    "df['Bioproject_Submission'] = df['ID'].progress_apply(find_submission_bioproject_field)"
   ]
  },
  {
   "attachments": {},
   "cell_type": "markdown",
   "metadata": {},
   "source": [
    "### Column Reorder"
   ]
  },
  {
   "cell_type": "code",
   "execution_count": null,
   "metadata": {},
   "outputs": [],
   "source": [
    "df = df[['Acc', 'ID', 'Center_Names', 'Submitted_by', 'Biosample_Submission','Bioproject_Submission']]\n"
   ]
  },
  {
   "cell_type": "code",
   "execution_count": null,
   "metadata": {},
   "outputs": [],
   "source": [
    "df=df.fillna('')\n",
    "df.head(5)"
   ]
  },
  {
   "attachments": {},
   "cell_type": "markdown",
   "metadata": {},
   "source": [
    "### Export"
   ]
  },
  {
   "cell_type": "code",
   "execution_count": null,
   "metadata": {},
   "outputs": [],
   "source": [
    "df.to_csv('./data/output/sample_data_Scrape_Result.csv', encoding='utf-8', index=False)\n"
   ]
  }
 ],
 "metadata": {
  "kernelspec": {
   "display_name": "Python 3.10.7 64-bit",
   "language": "python",
   "name": "python3"
  },
  "language_info": {
   "codemirror_mode": {
    "name": "ipython",
    "version": 3
   },
   "file_extension": ".py",
   "mimetype": "text/x-python",
   "name": "python",
   "nbconvert_exporter": "python",
   "pygments_lexer": "ipython3",
   "version": "3.10.6"
  },
  "orig_nbformat": 4,
  "vscode": {
   "interpreter": {
    "hash": "aee8b7b246df8f9039afb4144a1f6fd8d2ca17a180786b69acc140d282b71a49"
   }
  }
 },
 "nbformat": 4,
 "nbformat_minor": 2
}
