{
 "cells": [
  {
   "cell_type": "markdown",
   "metadata": {
    "tags": []
   },
   "source": [
    "## Install"
   ]
  },
  {
   "cell_type": "code",
   "execution_count": null,
   "metadata": {
    "tags": []
   },
   "outputs": [],
   "source": [
    "!pip install beautifulsoup4"
   ]
  },
  {
   "cell_type": "markdown",
   "metadata": {},
   "source": [
    "## Imports"
   ]
  },
  {
   "cell_type": "code",
   "execution_count": null,
   "metadata": {},
   "outputs": [],
   "source": [
    "import requests\n",
    "from bs4 import BeautifulSoup"
   ]
  },
  {
   "cell_type": "markdown",
   "metadata": {},
   "source": [
    "## Webscraping with BeatifulSoup"
   ]
  },
  {
   "cell_type": "code",
   "execution_count": null,
   "metadata": {},
   "outputs": [],
   "source": [
    "ACC  = 'SRR8535510'\n",
    "URL = f'https://www.ncbi.nlm.nih.gov/sra/?term={ACC}'\n",
    "page = requests.get(URL)\n",
    "\n",
    "soup = BeautifulSoup(page.content, 'html.parser')"
   ]
  },
  {
   "cell_type": "code",
   "execution_count": null,
   "metadata": {},
   "outputs": [],
   "source": [
    "# soup"
   ]
  },
  {
   "cell_type": "code",
   "execution_count": null,
   "metadata": {},
   "outputs": [],
   "source": [
    "results = soup.find_all('div',class_='sra-full-data')"
   ]
  },
  {
   "cell_type": "code",
   "execution_count": null,
   "metadata": {},
   "outputs": [],
   "source": [
    "results"
   ]
  },
  {
   "cell_type": "markdown",
   "metadata": {},
   "source": [
    "## Exploratory Functions"
   ]
  },
  {
   "cell_type": "code",
   "execution_count": null,
   "metadata": {},
   "outputs": [],
   "source": [
    "def find_submited_by_from_list(arg_list):\n",
    "    '''\n",
    "    Exploratory function to understand specific word from list.\n",
    "    '''\n",
    "    for num, i in enumerate(arg_list):\n",
    "        string=i.getText()\n",
    "        string = string.replace(u'\\xa0', u' ')\n",
    "        if \"Submitted by:\" in string:\n",
    "            return string.split(':')[1]"
   ]
  },
  {
   "cell_type": "code",
   "execution_count": null,
   "metadata": {},
   "outputs": [],
   "source": [
    "ans = find_submited_by_from_list(results)\n",
    "print(ans)"
   ]
  },
  {
   "cell_type": "code",
   "execution_count": null,
   "metadata": {},
   "outputs": [],
   "source": [
    "# {ACC:'',Submitted_by:''}"
   ]
  },
  {
   "cell_type": "code",
   "execution_count": null,
   "metadata": {},
   "outputs": [],
   "source": [
    "import requests\n",
    "from bs4 import BeautifulSoup\n",
    "\n",
    "def find_submited_by(acc_arg):\n",
    "    '''\n",
    "    Web scraping test function to find submited_by field from SRA with Accession number \n",
    "    '''\n",
    "    ACC  = str(acc_arg)\n",
    "    URL = f'https://www.ncbi.nlm.nih.gov/sra/?term={ACC}'\n",
    "    page = requests.get(URL)\n",
    "    soup = BeautifulSoup(page.content, 'html.parser')\n",
    "    div_results = soup.find_all('div',class_='sra-full-data')\n",
    "    for num, i in enumerate(div_results):\n",
    "        string=i.getText()\n",
    "        string = string.replace(u'\\xa0', u' ')\n",
    "        if \"Submitted by:\" in string:\n",
    "            return string.split(':')[1]"
   ]
  },
  {
   "cell_type": "code",
   "execution_count": null,
   "metadata": {},
   "outputs": [],
   "source": [
    "Test = find_submited_by(ACC)\n",
    "print(Test)"
   ]
  },
  {
   "cell_type": "code",
   "execution_count": null,
   "metadata": {},
   "outputs": [],
   "source": [
    "import requests\n",
    "from bs4 import BeautifulSoup\n",
    "import pandas as pd\n",
    "from tqdm import tqdm\n",
    "tqdm.pandas()\n",
    "# https://www.ncbi.nlm.nih.gov/biosample?LinkName=sra_biosample&from_uid=11616718\n",
    "def find_id(acc_arg):\n",
    "    '''\n",
    "    Web scraping function to find ID field from SRA with Accession number \n",
    "    '''\n",
    "    ACC  = str(acc_arg)\n",
    "    URL = f'https://www.ncbi.nlm.nih.gov/sra/?term={ACC}'\n",
    "    page = requests.get(URL)\n",
    "    soup = BeautifulSoup(page.content, 'html.parser')  \n",
    "    div_results = soup.find_all('div',class_='resc')\n",
    "    for num, i in enumerate(div_results):\n",
    "        string=i.getText()\n",
    "        string = string.replace(u'\\xa0', u' ')\n",
    "        if \"ID:\" in string:\n",
    "            return string.split(':')[1]\n",
    "df = pd.read_csv('Acc_centerName_9.csv')\n",
    "df['ID'] = df['acc'].progress_apply(find_id)"
   ]
  },
  {
   "cell_type": "code",
   "execution_count": null,
   "metadata": {},
   "outputs": [],
   "source": [
    "import requests\n",
    "from bs4 import BeautifulSoup\n",
    "import pandas as pd\n",
    "from tqdm import tqdm\n",
    "tqdm.pandas()\n",
    "# https://www.ncbi.nlm.nih.gov/biosample?LinkName=sra_biosample&from_uid=10533654\n",
    "def find_submission_biosample_field(ID_arg):\n",
    "    '''\n",
    "    Web scraping function to find submissison field from SRA biosamples with ID \n",
    "    '''\n",
    "    ID  = str(ID_arg)\n",
    "    URL = f'https://www.ncbi.nlm.nih.gov/biosample?LinkName=sra_biosample&from_uid={ID}'\n",
    "    page = requests.get(URL)\n",
    "    soup = BeautifulSoup(page.content, 'html.parser')  \n",
    "    div_results = soup.find_all('div',class_='docsum')\n",
    "    for num, i in enumerate(div_results):\n",
    "        string=i.getText()\n",
    "        string = string.replace(u'\\xa0', u' ')\n",
    "        if \"Submission\" in string:\n",
    "            return string.split('Submission')[1].split(';')[0]\n",
    "df = pd.read_csv('Acc_centerName_ID_9.csv')\n",
    "df['Biosample_Submission'] = df['ID'].progress_apply(find_submission_biosample_field)\n",
    "# answer = find_submission_biosample_field('10533654')\n",
    "# print(answer)"
   ]
  },
  {
   "cell_type": "code",
   "execution_count": null,
   "metadata": {},
   "outputs": [],
   "source": [
    "df.head()"
   ]
  }
 ],
 "metadata": {
  "kernelspec": {
   "display_name": "Python 3",
   "language": "python",
   "name": "python3"
  },
  "language_info": {
   "codemirror_mode": {
    "name": "ipython",
    "version": 3
   },
   "file_extension": ".py",
   "mimetype": "text/x-python",
   "name": "python",
   "nbconvert_exporter": "python",
   "pygments_lexer": "ipython3",
   "version": "3.10.7 (v3.10.7:6cc6b13308, Sep  5 2022, 14:02:52) [Clang 13.0.0 (clang-1300.0.29.30)]"
  },
  "vscode": {
   "interpreter": {
    "hash": "aee8b7b246df8f9039afb4144a1f6fd8d2ca17a180786b69acc140d282b71a49"
   }
  }
 },
 "nbformat": 4,
 "nbformat_minor": 4
}
