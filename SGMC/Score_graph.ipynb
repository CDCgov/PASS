{
 "cells": [
  {
   "cell_type": "code",
   "execution_count": null,
   "metadata": {},
   "outputs": [],
   "source": [
    "import pandas as pd\n",
    "import matplotlib.pyplot as plt\n",
    "# Load the data from the CSV files\n",
    "above_90 = pd.read_csv('./Data_Result/sample_data_above_90.csv')\n",
    "above_80 = pd.read_csv('./Data_Result/sample_data_above_80.csv')\n",
    "above_70 = pd.read_csv('./Data_Result/sample_data_above_70.csv')\n",
    "below_69 = pd.read_csv('./Data_Result/sample_data_below_69.csv')\n"
   ]
  },
  {
   "cell_type": "code",
   "execution_count": null,
   "metadata": {},
   "outputs": [],
   "source": [
    "below_69.count()"
   ]
  },
  {
   "cell_type": "code",
   "execution_count": null,
   "metadata": {},
   "outputs": [],
   "source": [
    "# Compute the average accuracy score for each dataframe\n",
    "avg_above_90 = above_90['Score'].mean()\n",
    "avg_above_80 = above_80['Score'].mean()\n",
    "avg_above_70 = above_70['Score'].mean()\n",
    "avg_below_69 = below_69['Score'].mean()\n"
   ]
  },
  {
   "cell_type": "code",
   "execution_count": null,
   "metadata": {},
   "outputs": [],
   "source": [
    "# Count the number of rows in each dataframe\n",
    "counts = [len(above_90), len(above_80), len(above_70), len(below_69)]\n",
    "# Create a bar plot\n",
    "plt.bar(['above_90', 'above_80', 'above_70', 'below_69'], counts)\n",
    "# Add labels and title\n",
    "plt.xlabel(' Score range')\n",
    "plt.ylabel('Number of rows')\n",
    "plt.title('Score  of matched rows in USA')\n",
    "# Add the average accuracy score to each bar\n",
    "plt.text(-0.4, max(counts) * 1, f\"Avg: {avg_above_90:.2f}(15)\")\n",
    "plt.text(0.6, max(counts) * 0.4, f\"Avg: {avg_above_80:.2f}(5)\")\n",
    "plt.text(1.5, max(counts) * 0.7, f\"Avg: {avg_above_70:.2f}(10)\")\n",
    "plt.text(2.6, max(counts) * 0.1, f\"Avg: {avg_below_69:.2f}(1)\")\n",
    "plt.text(2, max(counts) * 1, f\"[15+5+10+1=31]\")\n",
    "# Display the plot\n",
    "plt.show()"
   ]
  },
  {
   "cell_type": "code",
   "execution_count": null,
   "metadata": {},
   "outputs": [],
   "source": []
  }
 ],
 "metadata": {
  "kernelspec": {
   "display_name": "Python 3",
   "language": "python",
   "name": "python3"
  },
  "language_info": {
   "codemirror_mode": {
    "name": "ipython",
    "version": 3
   },
   "file_extension": ".py",
   "mimetype": "text/x-python",
   "name": "python",
   "nbconvert_exporter": "python",
   "pygments_lexer": "ipython3",
   "version": "3.10.7 (v3.10.7:6cc6b13308, Sep  5 2022, 14:02:52) [Clang 13.0.0 (clang-1300.0.29.30)]"
  },
  "orig_nbformat": 4,
  "vscode": {
   "interpreter": {
    "hash": "aee8b7b246df8f9039afb4144a1f6fd8d2ca17a180786b69acc140d282b71a49"
   }
  }
 },
 "nbformat": 4,
 "nbformat_minor": 2
}
